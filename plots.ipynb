{
 "cells": [
  {
   "cell_type": "code",
   "execution_count": 26,
   "metadata": {},
   "outputs": [],
   "source": [
    "import pandas as pd\n",
    "import matplotlib.pyplot as plt\n",
    "import numpy as np\n",
    "from scipy.stats import norm\n",
    "\n",
    "%matplotlib inline\n",
    "plt.style.use('tableau-colorblind10')"
   ]
  },
  {
   "cell_type": "code",
   "execution_count": 2,
   "metadata": {},
   "outputs": [
    {
     "data": {
      "text/html": [
       "<div>\n",
       "<style scoped>\n",
       "    .dataframe tbody tr th:only-of-type {\n",
       "        vertical-align: middle;\n",
       "    }\n",
       "\n",
       "    .dataframe tbody tr th {\n",
       "        vertical-align: top;\n",
       "    }\n",
       "\n",
       "    .dataframe thead th {\n",
       "        text-align: right;\n",
       "    }\n",
       "</style>\n",
       "<table border=\"1\" class=\"dataframe\">\n",
       "  <thead>\n",
       "    <tr style=\"text-align: right;\">\n",
       "      <th></th>\n",
       "      <th>zone</th>\n",
       "      <th>mean</th>\n",
       "      <th>std</th>\n",
       "    </tr>\n",
       "  </thead>\n",
       "  <tbody>\n",
       "    <tr>\n",
       "      <th>0</th>\n",
       "      <td>11</td>\n",
       "      <td>1676.956836</td>\n",
       "      <td>1174.208038</td>\n",
       "    </tr>\n",
       "    <tr>\n",
       "      <th>1</th>\n",
       "      <td>10</td>\n",
       "      <td>2002.114568</td>\n",
       "      <td>586.730285</td>\n",
       "    </tr>\n",
       "    <tr>\n",
       "      <th>2</th>\n",
       "      <td>13</td>\n",
       "      <td>393.766455</td>\n",
       "      <td>216.298357</td>\n",
       "    </tr>\n",
       "    <tr>\n",
       "      <th>3</th>\n",
       "      <td>12</td>\n",
       "      <td>472.025241</td>\n",
       "      <td>263.404236</td>\n",
       "    </tr>\n",
       "    <tr>\n",
       "      <th>4</th>\n",
       "      <td>15</td>\n",
       "      <td>139.733594</td>\n",
       "      <td>164.816481</td>\n",
       "    </tr>\n",
       "  </tbody>\n",
       "</table>\n",
       "</div>"
      ],
      "text/plain": [
       "   zone         mean          std\n",
       "0    11  1676.956836  1174.208038\n",
       "1    10  2002.114568   586.730285\n",
       "2    13   393.766455   216.298357\n",
       "3    12   472.025241   263.404236\n",
       "4    15   139.733594   164.816481"
      ]
     },
     "execution_count": 2,
     "metadata": {},
     "output_type": "execute_result"
    }
   ],
   "source": [
    "# archivo mean-zone-yearly-data.txt es generado por compute_statistics.py\n",
    "df_1 = pd.read_csv(\"./mean-zone-yearly-data.txt\", sep=\"\\t\", header=None, names=[\"zone\", \"mean\", \"std\"])\n",
    "df_1.head()"
   ]
  },
  {
   "cell_type": "code",
   "execution_count": 3,
   "metadata": {},
   "outputs": [
    {
     "data": {
      "text/html": [
       "<div>\n",
       "<style scoped>\n",
       "    .dataframe tbody tr th:only-of-type {\n",
       "        vertical-align: middle;\n",
       "    }\n",
       "\n",
       "    .dataframe tbody tr th {\n",
       "        vertical-align: top;\n",
       "    }\n",
       "\n",
       "    .dataframe thead th {\n",
       "        text-align: right;\n",
       "    }\n",
       "</style>\n",
       "<table border=\"1\" class=\"dataframe\">\n",
       "  <thead>\n",
       "    <tr style=\"text-align: right;\">\n",
       "      <th></th>\n",
       "      <th>zone</th>\n",
       "      <th>year</th>\n",
       "      <th>median</th>\n",
       "    </tr>\n",
       "  </thead>\n",
       "  <tbody>\n",
       "    <tr>\n",
       "      <th>990</th>\n",
       "      <td>0</td>\n",
       "      <td>1995</td>\n",
       "      <td>255.40</td>\n",
       "    </tr>\n",
       "    <tr>\n",
       "      <th>983</th>\n",
       "      <td>0</td>\n",
       "      <td>1998</td>\n",
       "      <td>1931.70</td>\n",
       "    </tr>\n",
       "    <tr>\n",
       "      <th>984</th>\n",
       "      <td>0</td>\n",
       "      <td>1999</td>\n",
       "      <td>95.90</td>\n",
       "    </tr>\n",
       "    <tr>\n",
       "      <th>695</th>\n",
       "      <td>0</td>\n",
       "      <td>2001</td>\n",
       "      <td>491.65</td>\n",
       "    </tr>\n",
       "    <tr>\n",
       "      <th>689</th>\n",
       "      <td>0</td>\n",
       "      <td>2002</td>\n",
       "      <td>856.10</td>\n",
       "    </tr>\n",
       "  </tbody>\n",
       "</table>\n",
       "</div>"
      ],
      "text/plain": [
       "     zone  year   median\n",
       "990     0  1995   255.40\n",
       "983     0  1998  1931.70\n",
       "984     0  1999    95.90\n",
       "695     0  2001   491.65\n",
       "689     0  2002   856.10"
      ]
     },
     "execution_count": 3,
     "metadata": {},
     "output_type": "execute_result"
    }
   ],
   "source": [
    "# archivo median-year-zone-yearly-data.txt es generado por compute_statistics.py\n",
    "df_2 = pd.read_csv(\"./median-year-zone-yearly-data.txt\", sep=\"\\t\", header=None, names=[\"zone\", \"year\", \"median\"])\n",
    "df_2 = df_2.sort_values(by=[\"zone\", \"year\"])\n",
    "df_2.head()\n",
    "\n",
    "# zone == 0 significa que es una zona no identificada, posiblemente estaciones\n",
    "# fuera de chile que no fueron filtradas correctamente"
   ]
  },
  {
   "cell_type": "markdown",
   "metadata": {},
   "source": [
    "### plot de SPI anual para cada zona creada\n",
    "\n",
    "Debemos conocer las zonas creadas y como nombrarlas"
   ]
  },
  {
   "cell_type": "code",
   "execution_count": 28,
   "metadata": {},
   "outputs": [
    {
     "data": {
      "image/png": "[encoded data removed]",
      "text/plain": [
       "<Figure size 720x360 with 1 Axes>"
      ]
     },
     "metadata": {
      "needs_background": "light"
     },
     "output_type": "display_data"
    }
   ],
   "source": [
    "# plot para division de zonas segun regiones politicas de chile\n",
    "zone = 13\n",
    "zone_name = \"Region Metropolitana\"\n",
    "\n",
    "mu = float(df_1[df_1[\"zone\"] == zone][\"mean\"])\n",
    "std = float(df_1[df_1[\"zone\"] == zone][\"std\"])\n",
    "precip = np.array(df_2[df_2[\"zone\"] == zone][\"median\"], dtype=float)\n",
    "years = np.array(df_2[df_2[\"zone\"] == zone][\"year\"], dtype=int)\n",
    "\n",
    "y = (precip - mu) / std\n",
    "x =years\n",
    "fig, ax = plt.subplots(figsize=(10, 5))\n",
    "ax.plot(x, y, '-o')\n",
    "ax.axvspan(2009, 2018, color=\"red\", alpha=0.2)\n",
    "ax.axhline(-1.0, color=\"orange\", linestyle=\"--\")\n",
    "ax.axhline(0, color=\"black\", linestyle=\":\", alpha=0.7)\n",
    "ax.set_xlabel(\"year\", fontsize=14)\n",
    "ax.set_ylabel(\"Standard Precipitation Index (SPI)\", fontsize=14)\n",
    "ax.set_title(\"Yearly SPI for '{}'\".format(zone_name), fontsize=15)\n",
    "ticks = np.arange(int(years[0] / 10)  * 10, 2020, 15)"
   ]
  },
  {
   "cell_type": "code",
   "execution_count": 22,
   "metadata": {},
   "outputs": [
    {
     "data": {
      "text/html": [
       "<div>\n",
       "<style scoped>\n",
       "    .dataframe tbody tr th:only-of-type {\n",
       "        vertical-align: middle;\n",
       "    }\n",
       "\n",
       "    .dataframe tbody tr th {\n",
       "        vertical-align: top;\n",
       "    }\n",
       "\n",
       "    .dataframe thead th {\n",
       "        text-align: right;\n",
       "    }\n",
       "</style>\n",
       "<table border=\"1\" class=\"dataframe\">\n",
       "  <thead>\n",
       "    <tr style=\"text-align: right;\">\n",
       "      <th></th>\n",
       "      <th>code</th>\n",
       "      <th>year</th>\n",
       "      <th>precip</th>\n",
       "      <th>zone</th>\n",
       "    </tr>\n",
       "  </thead>\n",
       "  <tbody>\n",
       "    <tr>\n",
       "      <th>18605</th>\n",
       "      <td>11700001</td>\n",
       "      <td>1995</td>\n",
       "      <td>255.40</td>\n",
       "      <td>0</td>\n",
       "    </tr>\n",
       "    <tr>\n",
       "      <th>18606</th>\n",
       "      <td>11700001</td>\n",
       "      <td>1998</td>\n",
       "      <td>387.70</td>\n",
       "      <td>0</td>\n",
       "    </tr>\n",
       "    <tr>\n",
       "      <th>18653</th>\n",
       "      <td>12125001</td>\n",
       "      <td>1998</td>\n",
       "      <td>3475.70</td>\n",
       "      <td>0</td>\n",
       "    </tr>\n",
       "    <tr>\n",
       "      <th>18607</th>\n",
       "      <td>11700001</td>\n",
       "      <td>1999</td>\n",
       "      <td>95.90</td>\n",
       "      <td>0</td>\n",
       "    </tr>\n",
       "    <tr>\n",
       "      <th>18608</th>\n",
       "      <td>11700001</td>\n",
       "      <td>2001</td>\n",
       "      <td>271.60</td>\n",
       "      <td>0</td>\n",
       "    </tr>\n",
       "    <tr>\n",
       "      <th>...</th>\n",
       "      <td>...</td>\n",
       "      <td>...</td>\n",
       "      <td>...</td>\n",
       "      <td>...</td>\n",
       "    </tr>\n",
       "    <tr>\n",
       "      <th>65</th>\n",
       "      <td>180005</td>\n",
       "      <td>2017</td>\n",
       "      <td>3.10</td>\n",
       "      <td>15</td>\n",
       "    </tr>\n",
       "    <tr>\n",
       "      <th>2141</th>\n",
       "      <td>1201003</td>\n",
       "      <td>2017</td>\n",
       "      <td>153.75</td>\n",
       "      <td>15</td>\n",
       "    </tr>\n",
       "    <tr>\n",
       "      <th>2263</th>\n",
       "      <td>1300006</td>\n",
       "      <td>2017</td>\n",
       "      <td>322.30</td>\n",
       "      <td>15</td>\n",
       "    </tr>\n",
       "    <tr>\n",
       "      <th>2305</th>\n",
       "      <td>1300007</td>\n",
       "      <td>2017</td>\n",
       "      <td>102.30</td>\n",
       "      <td>15</td>\n",
       "    </tr>\n",
       "    <tr>\n",
       "      <th>2348</th>\n",
       "      <td>1300009</td>\n",
       "      <td>2017</td>\n",
       "      <td>3.50</td>\n",
       "      <td>15</td>\n",
       "    </tr>\n",
       "  </tbody>\n",
       "</table>\n",
       "<p>19499 rows × 4 columns</p>\n",
       "</div>"
      ],
      "text/plain": [
       "           code  year   precip  zone\n",
       "18605  11700001  1995   255.40     0\n",
       "18606  11700001  1998   387.70     0\n",
       "18653  12125001  1998  3475.70     0\n",
       "18607  11700001  1999    95.90     0\n",
       "18608  11700001  2001   271.60     0\n",
       "...         ...   ...      ...   ...\n",
       "65       180005  2017     3.10    15\n",
       "2141    1201003  2017   153.75    15\n",
       "2263    1300006  2017   322.30    15\n",
       "2305    1300007  2017   102.30    15\n",
       "2348    1300009  2017     3.50    15\n",
       "\n",
       "[19499 rows x 4 columns]"
      ]
     },
     "execution_count": 22,
     "metadata": {},
     "output_type": "execute_result"
    }
   ],
   "source": [
    "# archivo yearly-data-with-zone.txt es generado por compute_statistics.py\n",
    "df_3 = pd.read_csv(\"./yearly-data-with-zone.txt\", sep=\"\\t\", header=None, names=[\"code\", \"year\", \"precip\", \"zone\"])\n",
    "df_3 = df_3.sort_values(by=[\"zone\", \"year\"])\n",
    "df_3"
   ]
  },
  {
   "cell_type": "markdown",
   "metadata": {},
   "source": [
    "## Plot de histograma y distribucion normal \n",
    "la distribucion normal es utilizada para obtener los indices de precipitacion"
   ]
  },
  {
   "cell_type": "code",
   "execution_count": 27,
   "metadata": {},
   "outputs": [
    {
     "data": {
      "text/plain": [
       "Text(0.5, 1.0, 'Fit results: mu = 393.77,  std = 216.30')"
      ]
     },
     "execution_count": 27,
     "metadata": {},
     "output_type": "execute_result"
    },
    {
     "data": {
      "image/png": "[encoded data removed]",
      "text/plain": [
       "<Figure size 360x360 with 1 Axes>"
      ]
     },
     "metadata": {
      "needs_background": "light"
     },
     "output_type": "display_data"
    }
   ],
   "source": [
    "\n",
    "precip_yearly = np.array(df_3[df_3[\"zone\"] == zone][\"precip\"], dtype=float)\n",
    "fig, ax = plt.subplots(figsize=(5, 5))\n",
    "ax.hist(precip_yearly, bins=25, density=True, alpha=0.6, color='b')\n",
    "\n",
    "# Plot the PDF.\n",
    "xmin, xmax = plt.xlim()\n",
    "x = np.linspace(xmin, xmax, 100)\n",
    "p = norm.pdf(x, mu, std)\n",
    "plt.plot(x, p, 'k', linewidth=2)\n",
    "title = \"Fit results: mu = %.2f,  std = %.2f\" % (mu, std)\n",
    "plt.title(title)"
   ]
  },
  {
   "cell_type": "markdown",
   "metadata": {},
   "source": [
    "### Plot de localizacion geografica y lluvia anual promedio versus latitud"
   ]
  },
  {
   "cell_type": "code",
   "execution_count": null,
   "metadata": {},
   "outputs": [],
   "source": []
  },
  {
   "cell_type": "code",
   "execution_count": null,
   "metadata": {},
   "outputs": [],
   "source": []
  },
  {
   "cell_type": "code",
   "execution_count": null,
   "metadata": {},
   "outputs": [],
   "source": []
  }
 ],
 "metadata": {
  "kernelspec": {
   "display_name": "Python 3",
   "language": "python",
   "name": "python3"
  },
  "language_info": {
   "codemirror_mode": {
    "name": "ipython",
    "version": 3
   },
   "file_extension": ".py",
   "mimetype": "text/x-python",
   "name": "python",
   "nbconvert_exporter": "python",
   "pygments_lexer": "ipython3",
   "version": "3.8.1"
  }
 },
 "nbformat": 4,
 "nbformat_minor": 4
}
